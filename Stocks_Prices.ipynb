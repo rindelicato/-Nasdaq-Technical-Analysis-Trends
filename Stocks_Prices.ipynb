{
 "cells": [
  {
   "cell_type": "markdown",
   "metadata": {},
   "source": [
    "# NASDAQ Technical Analysis & Trends\n",
    "Hypothesis<br>\n",
    "which days are bullish and bearish?<br>\n",
    "which months are bullish and bearish?<br> "
   ]
  },
  {
   "cell_type": "markdown",
   "metadata": {},
   "source": [
    "get nasdaque historical prices<br> \n",
    "store it in a database as we plan to add new features<br> \n",
    "retrieve from database and create new dataset<BR>\n",
    "define new features such as day & month that will be used for seasonality <br> \n",
    "introduce moving averages <br> \n",
    "add some visizuliations<br> \n",
    "use Github<br> \n",
    "\n",
    "\n"
   ]
  },
  {
   "cell_type": "code",
   "execution_count": 33,
   "metadata": {},
   "outputs": [],
   "source": [
    "import psycopg2\n",
    "from psycopg2 import sql\n",
    "import yfinance as yf\n",
    "import pandas as pd\n",
    "import pandas_ta as ta\n",
    "import numpy as np\n",
    "import matplotlib.pyplot as plt"
   ]
  },
  {
   "cell_type": "markdown",
   "metadata": {},
   "source": [
    "### Source data from yahoo finance"
   ]
  },
  {
   "cell_type": "code",
   "execution_count": 34,
   "metadata": {},
   "outputs": [
    {
     "name": "stderr",
     "output_type": "stream",
     "text": [
      "[*********************100%%**********************]  1 of 1 completed"
     ]
    },
    {
     "name": "stderr",
     "output_type": "stream",
     "text": [
      "\n"
     ]
    }
   ],
   "source": [
    "# Nasadq composite ticker symbol\n",
    "ticker = '^ixic'\n",
    "\n",
    "# Fetch data for a ticker\n",
    "df = yf.download(ticker, start='2024-01-01', end='2024-09-18')"
   ]
  },
  {
   "cell_type": "code",
   "execution_count": 35,
   "metadata": {},
   "outputs": [
    {
     "data": {
      "text/html": [
       "<div>\n",
       "<style scoped>\n",
       "    .dataframe tbody tr th:only-of-type {\n",
       "        vertical-align: middle;\n",
       "    }\n",
       "\n",
       "    .dataframe tbody tr th {\n",
       "        vertical-align: top;\n",
       "    }\n",
       "\n",
       "    .dataframe thead th {\n",
       "        text-align: right;\n",
       "    }\n",
       "</style>\n",
       "<table border=\"1\" class=\"dataframe\">\n",
       "  <thead>\n",
       "    <tr style=\"text-align: right;\">\n",
       "      <th></th>\n",
       "      <th>Date</th>\n",
       "      <th>Open</th>\n",
       "      <th>High</th>\n",
       "      <th>Low</th>\n",
       "      <th>Close</th>\n",
       "      <th>Adj Close</th>\n",
       "      <th>Volume</th>\n",
       "      <th>Ticker</th>\n",
       "    </tr>\n",
       "  </thead>\n",
       "  <tbody>\n",
       "    <tr>\n",
       "      <th>0</th>\n",
       "      <td>2024-01-02</td>\n",
       "      <td>14873.700195</td>\n",
       "      <td>14887.799805</td>\n",
       "      <td>14682.379883</td>\n",
       "      <td>14765.94043</td>\n",
       "      <td>14765.94043</td>\n",
       "      <td>5791170000</td>\n",
       "      <td>^ixic</td>\n",
       "    </tr>\n",
       "  </tbody>\n",
       "</table>\n",
       "</div>"
      ],
      "text/plain": [
       "        Date          Open          High           Low        Close  \\\n",
       "0 2024-01-02  14873.700195  14887.799805  14682.379883  14765.94043   \n",
       "\n",
       "     Adj Close      Volume Ticker  \n",
       "0  14765.94043  5791170000  ^ixic  "
      ]
     },
     "execution_count": 35,
     "metadata": {},
     "output_type": "execute_result"
    }
   ],
   "source": [
    "df.reset_index(inplace=True)\n",
    "df['Ticker'] = ticker\n",
    "df.head(1)"
   ]
  },
  {
   "cell_type": "markdown",
   "metadata": {},
   "source": [
    "### Connecting to PostgresSQL and loading into a dataframe called df_sql"
   ]
  },
  {
   "cell_type": "code",
   "execution_count": 36,
   "metadata": {},
   "outputs": [],
   "source": [
    "# psycopg2 is a PostgreSQL database adapter for Python. It allows Python programs to interact with PostgreSQL databases.\n",
    "# creating a varible to connect with the database.\n",
    "\n",
    "conn = psycopg2.connect(\n",
    "    dbname=\"Stocks\",\n",
    "    user=\"postgres\",\n",
    "    password=\"Araofooaca47@41\",\n",
    "    host=\"localhost\",\n",
    "    port=\"5432\"\n",
    ")\n",
    "# Enable autocommit\n",
    "conn.autocommit = True\n",
    "cur = conn.cursor()    # The cursor allows python to interact with Postgres SQL database."
   ]
  },
  {
   "cell_type": "code",
   "execution_count": 37,
   "metadata": {},
   "outputs": [
    {
     "name": "stderr",
     "output_type": "stream",
     "text": [
      "C:\\Users\\rinde\\AppData\\Local\\Temp\\ipykernel_12152\\3161469733.py:3: UserWarning: pandas only supports SQLAlchemy connectable (engine/connection) or database string URI or sqlite3 DBAPI2 connection. Other DBAPI2 objects are not tested. Please consider using SQLAlchemy.\n",
      "  df_sql = pd.read_sql(query, conn)\n"
     ]
    }
   ],
   "source": [
    "# Query the data from the \"stocks\" table and load it into a DataFrame\n",
    "query = 'SELECT * FROM stock_symbol'\n",
    "df_sql = pd.read_sql(query, conn)\n",
    "\n"
   ]
  },
  {
   "cell_type": "code",
   "execution_count": 38,
   "metadata": {},
   "outputs": [
    {
     "data": {
      "text/html": [
       "<div>\n",
       "<style scoped>\n",
       "    .dataframe tbody tr th:only-of-type {\n",
       "        vertical-align: middle;\n",
       "    }\n",
       "\n",
       "    .dataframe tbody tr th {\n",
       "        vertical-align: top;\n",
       "    }\n",
       "\n",
       "    .dataframe thead th {\n",
       "        text-align: right;\n",
       "    }\n",
       "</style>\n",
       "<table border=\"1\" class=\"dataframe\">\n",
       "  <thead>\n",
       "    <tr style=\"text-align: right;\">\n",
       "      <th></th>\n",
       "      <th>id</th>\n",
       "      <th>open</th>\n",
       "      <th>high</th>\n",
       "      <th>low</th>\n",
       "      <th>close</th>\n",
       "      <th>adj_close</th>\n",
       "      <th>volume</th>\n",
       "      <th>ticker</th>\n",
       "      <th>date</th>\n",
       "      <th>day</th>\n",
       "      <th>month</th>\n",
       "      <th>updown_day</th>\n",
       "    </tr>\n",
       "  </thead>\n",
       "  <tbody>\n",
       "    <tr>\n",
       "      <th>0</th>\n",
       "      <td>3447</td>\n",
       "      <td>14873.7</td>\n",
       "      <td>14887.8</td>\n",
       "      <td>14682.38</td>\n",
       "      <td>14765.94</td>\n",
       "      <td>14765.94</td>\n",
       "      <td>5.791170e+09</td>\n",
       "      <td>^ixic</td>\n",
       "      <td>2024-01-02</td>\n",
       "      <td>Tuesday</td>\n",
       "      <td>January</td>\n",
       "      <td>NaN</td>\n",
       "    </tr>\n",
       "  </tbody>\n",
       "</table>\n",
       "</div>"
      ],
      "text/plain": [
       "     id     open     high       low     close  adj_close        volume ticker  \\\n",
       "0  3447  14873.7  14887.8  14682.38  14765.94   14765.94  5.791170e+09  ^ixic   \n",
       "\n",
       "         date      day    month updown_day  \n",
       "0  2024-01-02  Tuesday  January        NaN  "
      ]
     },
     "execution_count": 38,
     "metadata": {},
     "output_type": "execute_result"
    }
   ],
   "source": [
    "df_sql.head(1)"
   ]
  },
  {
   "cell_type": "code",
   "execution_count": 39,
   "metadata": {},
   "outputs": [],
   "source": [
    "# cur.execute('''\n",
    "#     SELECT company_info.company, company_info.ticker, stock_symbol.high, stock_symbol.low, stock_symbol.volume\n",
    "#     FROM company_info\n",
    "#     INNER JOIN stock_symbol\n",
    "#     ON company_info.ticker = stock_symbol.ticker;\n",
    "#  ''')\n",
    "\n",
    "# # Fetch all the results\n",
    "# rows = cur.fetchall()\n",
    "\n",
    "# # Print the results\n",
    "# for i in rows:\n",
    "#     print(i)"
   ]
  },
  {
   "cell_type": "code",
   "execution_count": 40,
   "metadata": {},
   "outputs": [],
   "source": [
    "# df.tail()"
   ]
  },
  {
   "cell_type": "code",
   "execution_count": 41,
   "metadata": {},
   "outputs": [],
   "source": [
    "# for _, r in df.iterrows():\n",
    "#     insert_query = '''\n",
    "#         INSERT INTO stock_symbol (open, high, low, close, adj_close, volume, ticker, date)\n",
    "#         VALUES (%s, %s, %s, %s, %s, %s, %s,%s);\n",
    "#         '''\n",
    "#     cur.execute(insert_query, (r['Open'], r['High'], r['Low'], r['Close'], r['Adj Close'], r['Volume'], r['Ticker'], r['Date']))\n",
    "\n",
    "# conn.commit()\n"
   ]
  },
  {
   "cell_type": "code",
   "execution_count": 42,
   "metadata": {},
   "outputs": [],
   "source": [
    "# df = df.reset_index()"
   ]
  },
  {
   "cell_type": "markdown",
   "metadata": {},
   "source": [
    "### Adding two new features called day and month derived from Date column"
   ]
  },
  {
   "cell_type": "code",
   "execution_count": 43,
   "metadata": {},
   "outputs": [],
   "source": [
    "# Changing Date colum to a date type so we can derive into day and month\n",
    "df['Date'] = pd.to_datetime(df['Date'])\n",
    "\n",
    "# Adding a day column and month column to the dataset\n",
    "df['Day'] = df['Date'].dt.day_name()\n",
    "df['Month'] = df['Date'].dt.month_name()\n"
   ]
  },
  {
   "cell_type": "markdown",
   "metadata": {},
   "source": [
    "### Seasonality features based on day "
   ]
  },
  {
   "cell_type": "code",
   "execution_count": 44,
   "metadata": {},
   "outputs": [],
   "source": [
    "# Calculate up and down days\n",
    "up_day = (df['Close'] > df['Close'].shift(1))\n",
    "down_day = (df['Close'] < df['Close'].shift(1))\n",
    "unch = (df['Close'] == df['Close'].shift(1))"
   ]
  },
  {
   "cell_type": "code",
   "execution_count": 45,
   "metadata": {},
   "outputs": [
    {
     "data": {
      "text/html": [
       "<div>\n",
       "<style scoped>\n",
       "    .dataframe tbody tr th:only-of-type {\n",
       "        vertical-align: middle;\n",
       "    }\n",
       "\n",
       "    .dataframe tbody tr th {\n",
       "        vertical-align: top;\n",
       "    }\n",
       "\n",
       "    .dataframe thead th {\n",
       "        text-align: right;\n",
       "    }\n",
       "</style>\n",
       "<table border=\"1\" class=\"dataframe\">\n",
       "  <thead>\n",
       "    <tr style=\"text-align: right;\">\n",
       "      <th></th>\n",
       "      <th>Date</th>\n",
       "      <th>Open</th>\n",
       "      <th>High</th>\n",
       "      <th>Low</th>\n",
       "      <th>Close</th>\n",
       "      <th>Adj Close</th>\n",
       "      <th>Volume</th>\n",
       "      <th>Ticker</th>\n",
       "      <th>Day</th>\n",
       "      <th>Month</th>\n",
       "      <th>UpDown_Day</th>\n",
       "    </tr>\n",
       "  </thead>\n",
       "  <tbody>\n",
       "    <tr>\n",
       "      <th>0</th>\n",
       "      <td>2024-01-02</td>\n",
       "      <td>14873.700195</td>\n",
       "      <td>14887.799805</td>\n",
       "      <td>14682.379883</td>\n",
       "      <td>14765.940430</td>\n",
       "      <td>14765.940430</td>\n",
       "      <td>5791170000</td>\n",
       "      <td>^ixic</td>\n",
       "      <td>Tuesday</td>\n",
       "      <td>January</td>\n",
       "      <td>NaN</td>\n",
       "    </tr>\n",
       "    <tr>\n",
       "      <th>1</th>\n",
       "      <td>2024-01-03</td>\n",
       "      <td>14641.469727</td>\n",
       "      <td>14694.580078</td>\n",
       "      <td>14577.440430</td>\n",
       "      <td>14592.209961</td>\n",
       "      <td>14592.209961</td>\n",
       "      <td>5449950000</td>\n",
       "      <td>^ixic</td>\n",
       "      <td>Wednesday</td>\n",
       "      <td>January</td>\n",
       "      <td>Down</td>\n",
       "    </tr>\n",
       "    <tr>\n",
       "      <th>2</th>\n",
       "      <td>2024-01-04</td>\n",
       "      <td>14532.230469</td>\n",
       "      <td>14632.769531</td>\n",
       "      <td>14504.780273</td>\n",
       "      <td>14510.299805</td>\n",
       "      <td>14510.299805</td>\n",
       "      <td>5289220000</td>\n",
       "      <td>^ixic</td>\n",
       "      <td>Thursday</td>\n",
       "      <td>January</td>\n",
       "      <td>Down</td>\n",
       "    </tr>\n",
       "    <tr>\n",
       "      <th>3</th>\n",
       "      <td>2024-01-05</td>\n",
       "      <td>14500.110352</td>\n",
       "      <td>14625.190430</td>\n",
       "      <td>14477.570312</td>\n",
       "      <td>14524.070312</td>\n",
       "      <td>14524.070312</td>\n",
       "      <td>5232820000</td>\n",
       "      <td>^ixic</td>\n",
       "      <td>Friday</td>\n",
       "      <td>January</td>\n",
       "      <td>Up</td>\n",
       "    </tr>\n",
       "    <tr>\n",
       "      <th>4</th>\n",
       "      <td>2024-01-08</td>\n",
       "      <td>14564.469727</td>\n",
       "      <td>14846.900391</td>\n",
       "      <td>14560.200195</td>\n",
       "      <td>14843.769531</td>\n",
       "      <td>14843.769531</td>\n",
       "      <td>6337770000</td>\n",
       "      <td>^ixic</td>\n",
       "      <td>Monday</td>\n",
       "      <td>January</td>\n",
       "      <td>Up</td>\n",
       "    </tr>\n",
       "  </tbody>\n",
       "</table>\n",
       "</div>"
      ],
      "text/plain": [
       "        Date          Open          High           Low         Close  \\\n",
       "0 2024-01-02  14873.700195  14887.799805  14682.379883  14765.940430   \n",
       "1 2024-01-03  14641.469727  14694.580078  14577.440430  14592.209961   \n",
       "2 2024-01-04  14532.230469  14632.769531  14504.780273  14510.299805   \n",
       "3 2024-01-05  14500.110352  14625.190430  14477.570312  14524.070312   \n",
       "4 2024-01-08  14564.469727  14846.900391  14560.200195  14843.769531   \n",
       "\n",
       "      Adj Close      Volume Ticker        Day    Month UpDown_Day  \n",
       "0  14765.940430  5791170000  ^ixic    Tuesday  January        NaN  \n",
       "1  14592.209961  5449950000  ^ixic  Wednesday  January       Down  \n",
       "2  14510.299805  5289220000  ^ixic   Thursday  January       Down  \n",
       "3  14524.070312  5232820000  ^ixic     Friday  January         Up  \n",
       "4  14843.769531  6337770000  ^ixic     Monday  January         Up  "
      ]
     },
     "execution_count": 45,
     "metadata": {},
     "output_type": "execute_result"
    }
   ],
   "source": [
    "# Adding new features to show Up, Down and Unchanged days\n",
    "df.loc[up_day, 'UpDown_Day'] = \"Up\"\n",
    "df.loc[down_day, 'UpDown_Day'] = \"Down\"\n",
    "df.loc[unch, 'UpDown_Day'] = \"Unchanged\"\n",
    "df.head(5)"
   ]
  },
  {
   "cell_type": "code",
   "execution_count": 46,
   "metadata": {},
   "outputs": [
    {
     "data": {
      "text/html": [
       "<div>\n",
       "<style scoped>\n",
       "    .dataframe tbody tr th:only-of-type {\n",
       "        vertical-align: middle;\n",
       "    }\n",
       "\n",
       "    .dataframe tbody tr th {\n",
       "        vertical-align: top;\n",
       "    }\n",
       "\n",
       "    .dataframe thead th {\n",
       "        text-align: right;\n",
       "    }\n",
       "</style>\n",
       "<table border=\"1\" class=\"dataframe\">\n",
       "  <thead>\n",
       "    <tr style=\"text-align: right;\">\n",
       "      <th></th>\n",
       "      <th>Date</th>\n",
       "      <th>Open</th>\n",
       "      <th>High</th>\n",
       "      <th>Low</th>\n",
       "      <th>Close</th>\n",
       "      <th>Adj Close</th>\n",
       "      <th>Volume</th>\n",
       "      <th>Ticker</th>\n",
       "      <th>Day</th>\n",
       "      <th>Month</th>\n",
       "      <th>UpDown_Day</th>\n",
       "    </tr>\n",
       "  </thead>\n",
       "  <tbody>\n",
       "    <tr>\n",
       "      <th>178</th>\n",
       "      <td>2024-09-17</td>\n",
       "      <td>17707.019531</td>\n",
       "      <td>17781.740234</td>\n",
       "      <td>17544.640625</td>\n",
       "      <td>17628.060547</td>\n",
       "      <td>17628.060547</td>\n",
       "      <td>4959520000</td>\n",
       "      <td>^ixic</td>\n",
       "      <td>Tuesday</td>\n",
       "      <td>September</td>\n",
       "      <td>Up</td>\n",
       "    </tr>\n",
       "  </tbody>\n",
       "</table>\n",
       "</div>"
      ],
      "text/plain": [
       "          Date          Open          High           Low         Close  \\\n",
       "178 2024-09-17  17707.019531  17781.740234  17544.640625  17628.060547   \n",
       "\n",
       "        Adj Close      Volume Ticker      Day      Month UpDown_Day  \n",
       "178  17628.060547  4959520000  ^ixic  Tuesday  September         Up  "
      ]
     },
     "execution_count": 46,
     "metadata": {},
     "output_type": "execute_result"
    }
   ],
   "source": [
    "df.tail(1)"
   ]
  },
  {
   "cell_type": "markdown",
   "metadata": {},
   "source": [
    "### Adding new features columns, day, month & updown_day, into the postgres table stock_symbol.\n"
   ]
  },
  {
   "cell_type": "code",
   "execution_count": 47,
   "metadata": {},
   "outputs": [],
   "source": [
    "columns_query = '''\n",
    "    SELECT column_name\n",
    "    FROM information_schema.columns\n",
    "    WHERE table_name = 'stock_symbol';\n",
    "'''\n",
    "cur.execute(columns_query)\n",
    "columns = cur.fetchall()"
   ]
  },
  {
   "cell_type": "code",
   "execution_count": 48,
   "metadata": {},
   "outputs": [
    {
     "name": "stdout",
     "output_type": "stream",
     "text": [
      "[('id',), ('open',), ('high',), ('low',), ('close',), ('adj_close',), ('volume',), ('ticker',), ('date',), ('day',), ('month',), ('updown_day',)]\n"
     ]
    }
   ],
   "source": [
    "print(columns)"
   ]
  },
  {
   "cell_type": "code",
   "execution_count": 49,
   "metadata": {},
   "outputs": [],
   "source": [
    "if ('day',) not in columns:\n",
    "    cur.execute(\n",
    "        '''\n",
    "        ALTER TABLE \"stock_symbol\"\n",
    "        ADD COLUMN \"day\" TEXT;\n",
    "        '''\n",
    "        )"
   ]
  },
  {
   "cell_type": "code",
   "execution_count": 50,
   "metadata": {},
   "outputs": [],
   "source": [
    "if('month',) not in columns:\n",
    "    cur.execute(\n",
    "     '''\n",
    "     ALTER TABLE \"stock_symbol\"\n",
    "     ADD COLUMN \"month\" TEXT;\n",
    "    '''\n",
    "    )"
   ]
  },
  {
   "cell_type": "code",
   "execution_count": 51,
   "metadata": {},
   "outputs": [],
   "source": [
    "if('updown_day',) not in columns:\n",
    "    cur.execute(\n",
    "     '''\n",
    "     ALTER TABLE \"stock_symbol\"\n",
    "     ADD COLUMN \"updown_day\" TEXT;\n",
    "    '''\n",
    "    )"
   ]
  },
  {
   "cell_type": "markdown",
   "metadata": {},
   "source": [
    "### Adding data from df to postgresSQL along with new features"
   ]
  },
  {
   "cell_type": "code",
   "execution_count": 52,
   "metadata": {},
   "outputs": [],
   "source": [
    "# Deleting all data from table so we can upload fresh data/\n",
    "cur.execute('''DELETE FROM stock_symbol''')"
   ]
  },
  {
   "cell_type": "code",
   "execution_count": 53,
   "metadata": {},
   "outputs": [],
   "source": [
    "# Iterating through the rows and inserting into table\n",
    "for _, r in df.iterrows():\n",
    "    insert_query = '''\n",
    "        INSERT INTO stock_symbol (open, high, low, close, adj_close, volume, ticker, date, day, month, updown_day)\n",
    "        VALUES (%s, %s, %s, %s, %s, %s, %s, %s, %s, %s, %s);\n",
    "        '''\n",
    "    cur.execute(insert_query, (r['Open'], r['High'], r['Low'], r['Close'], r['Adj Close'], r['Volume'], r['Ticker'], r['Date'],  r['Day'], r['Month'], r['UpDown_Day']))\n",
    "\n",
    "conn.commit()"
   ]
  },
  {
   "cell_type": "code",
   "execution_count": 54,
   "metadata": {},
   "outputs": [
    {
     "name": "stderr",
     "output_type": "stream",
     "text": [
      "C:\\Users\\rinde\\AppData\\Local\\Temp\\ipykernel_12152\\3908707936.py:3: UserWarning: pandas only supports SQLAlchemy connectable (engine/connection) or database string URI or sqlite3 DBAPI2 connection. Other DBAPI2 objects are not tested. Please consider using SQLAlchemy.\n",
      "  df_sql = pd.read_sql(query, conn)\n"
     ]
    },
    {
     "data": {
      "text/html": [
       "<div>\n",
       "<style scoped>\n",
       "    .dataframe tbody tr th:only-of-type {\n",
       "        vertical-align: middle;\n",
       "    }\n",
       "\n",
       "    .dataframe tbody tr th {\n",
       "        vertical-align: top;\n",
       "    }\n",
       "\n",
       "    .dataframe thead th {\n",
       "        text-align: right;\n",
       "    }\n",
       "</style>\n",
       "<table border=\"1\" class=\"dataframe\">\n",
       "  <thead>\n",
       "    <tr style=\"text-align: right;\">\n",
       "      <th></th>\n",
       "      <th>id</th>\n",
       "      <th>open</th>\n",
       "      <th>high</th>\n",
       "      <th>low</th>\n",
       "      <th>close</th>\n",
       "      <th>adj_close</th>\n",
       "      <th>volume</th>\n",
       "      <th>ticker</th>\n",
       "      <th>date</th>\n",
       "      <th>day</th>\n",
       "      <th>month</th>\n",
       "      <th>updown_day</th>\n",
       "    </tr>\n",
       "  </thead>\n",
       "  <tbody>\n",
       "    <tr>\n",
       "      <th>0</th>\n",
       "      <td>3626</td>\n",
       "      <td>14873.7</td>\n",
       "      <td>14887.8</td>\n",
       "      <td>14682.38</td>\n",
       "      <td>14765.94</td>\n",
       "      <td>14765.94</td>\n",
       "      <td>5.791170e+09</td>\n",
       "      <td>^ixic</td>\n",
       "      <td>2024-01-02</td>\n",
       "      <td>Tuesday</td>\n",
       "      <td>January</td>\n",
       "      <td>NaN</td>\n",
       "    </tr>\n",
       "  </tbody>\n",
       "</table>\n",
       "</div>"
      ],
      "text/plain": [
       "     id     open     high       low     close  adj_close        volume ticker  \\\n",
       "0  3626  14873.7  14887.8  14682.38  14765.94   14765.94  5.791170e+09  ^ixic   \n",
       "\n",
       "         date      day    month updown_day  \n",
       "0  2024-01-02  Tuesday  January        NaN  "
      ]
     },
     "execution_count": 54,
     "metadata": {},
     "output_type": "execute_result"
    }
   ],
   "source": [
    "# Query the data from the \"stocks\" table and load it into a DataFrame\n",
    "query = 'SELECT * FROM stock_symbol'\n",
    "df_sql = pd.read_sql(query, conn)\n",
    "df_sql.head(1)"
   ]
  },
  {
   "cell_type": "code",
   "execution_count": 55,
   "metadata": {},
   "outputs": [],
   "source": [
    "# # Export to CSV\n",
    "# df_sql.to_excel(r'C:\\Users\\rinde\\OneDrive\\Desktop\\stocks.xlsx')"
   ]
  },
  {
   "cell_type": "code",
   "execution_count": 56,
   "metadata": {},
   "outputs": [],
   "source": [
    "# create chart with days of the week and the open and close day column"
   ]
  },
  {
   "cell_type": "code",
   "execution_count": 57,
   "metadata": {},
   "outputs": [],
   "source": [
    "cur.close()\n",
    "conn.close()"
   ]
  },
  {
   "cell_type": "code",
   "execution_count": 58,
   "metadata": {},
   "outputs": [],
   "source": [
    "df_clean = df_sql.replace('NaN', 'Down')\n"
   ]
  },
  {
   "cell_type": "code",
   "execution_count": 71,
   "metadata": {},
   "outputs": [
    {
     "data": {
      "text/html": [
       "<div>\n",
       "<style scoped>\n",
       "    .dataframe tbody tr th:only-of-type {\n",
       "        vertical-align: middle;\n",
       "    }\n",
       "\n",
       "    .dataframe tbody tr th {\n",
       "        vertical-align: top;\n",
       "    }\n",
       "\n",
       "    .dataframe thead th {\n",
       "        text-align: right;\n",
       "    }\n",
       "</style>\n",
       "<table border=\"1\" class=\"dataframe\">\n",
       "  <thead>\n",
       "    <tr style=\"text-align: right;\">\n",
       "      <th>updown_day</th>\n",
       "      <th>Down</th>\n",
       "      <th>Up</th>\n",
       "      <th>% Up</th>\n",
       "    </tr>\n",
       "    <tr>\n",
       "      <th>day</th>\n",
       "      <th></th>\n",
       "      <th></th>\n",
       "      <th></th>\n",
       "    </tr>\n",
       "  </thead>\n",
       "  <tbody>\n",
       "    <tr>\n",
       "      <th>Friday</th>\n",
       "      <td>16</td>\n",
       "      <td>20</td>\n",
       "      <td>55.555556</td>\n",
       "    </tr>\n",
       "    <tr>\n",
       "      <th>Monday</th>\n",
       "      <td>11</td>\n",
       "      <td>22</td>\n",
       "      <td>66.666667</td>\n",
       "    </tr>\n",
       "    <tr>\n",
       "      <th>Thursday</th>\n",
       "      <td>17</td>\n",
       "      <td>19</td>\n",
       "      <td>52.777778</td>\n",
       "    </tr>\n",
       "    <tr>\n",
       "      <th>Tuesday</th>\n",
       "      <td>15</td>\n",
       "      <td>23</td>\n",
       "      <td>60.526316</td>\n",
       "    </tr>\n",
       "    <tr>\n",
       "      <th>Wednesday</th>\n",
       "      <td>17</td>\n",
       "      <td>19</td>\n",
       "      <td>52.777778</td>\n",
       "    </tr>\n",
       "  </tbody>\n",
       "</table>\n",
       "</div>"
      ],
      "text/plain": [
       "updown_day  Down  Up       % Up\n",
       "day                            \n",
       "Friday        16  20  55.555556\n",
       "Monday        11  22  66.666667\n",
       "Thursday      17  19  52.777778\n",
       "Tuesday       15  23  60.526316\n",
       "Wednesday     17  19  52.777778"
      ]
     },
     "execution_count": 71,
     "metadata": {},
     "output_type": "execute_result"
    }
   ],
   "source": [
    "# create a pivote table and assign it to a new dataframe df_pvtDay\n",
    "df_pvtDay = pd.pivot_table(df_clean, index='day', columns='updown_day', aggfunc='size', fill_value=0)\n",
    "\n",
    "# Calculate the total sales for each city and add it as a new column\n",
    "df_pvtDay['% Up'] = (df_pvtDay['Up'] / df_pvtDay.sum(axis=1)) * 100\n",
    "df_pvtDay.head()\n"
   ]
  },
  {
   "cell_type": "code",
   "execution_count": 60,
   "metadata": {},
   "outputs": [],
   "source": [
    "# create pivote table and assign it to a new dataframe df_pvtMonth\n"
   ]
  },
  {
   "cell_type": "code",
   "execution_count": 61,
   "metadata": {},
   "outputs": [],
   "source": [
    "# Create cluster bar chart\n"
   ]
  },
  {
   "cell_type": "markdown",
   "metadata": {},
   "source": [
    "git checkout staging => switch between branches.<BR>\n",
    "git fetch origin => update your local repository with the latest changes from the remote branch<BR>\n",
    "git pull origin staging => Merge the remote staging branch into your local staging branch<BR>\n",
    "git add . => add all changes in the current directory<BR>\n",
    "git push origin staging"
   ]
  }
 ],
 "metadata": {
  "kernelspec": {
   "display_name": "Python 3",
   "language": "python",
   "name": "python3"
  },
  "language_info": {
   "codemirror_mode": {
    "name": "ipython",
    "version": 3
   },
   "file_extension": ".py",
   "mimetype": "text/x-python",
   "name": "python",
   "nbconvert_exporter": "python",
   "pygments_lexer": "ipython3",
   "version": "3.11.9"
  }
 },
 "nbformat": 4,
 "nbformat_minor": 2
}
